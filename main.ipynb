{
  "nbformat": 4,
  "nbformat_minor": 0,
  "metadata": {
    "colab": {
      "provenance": [],
      "gpuType": "T4",
      "collapsed_sections": [
        "nExY3iOnQkpp",
        "sVX0cUiQBfXG",
        "hUd2j5-IMd2d"
      ]
    },
    "kernelspec": {
      "name": "python3",
      "display_name": "Python 3"
    },
    "language_info": {
      "name": "python"
    },
    "accelerator": "GPU"
  },
  "cells": [
    {
      "cell_type": "markdown",
      "source": [
        "#Task 01"
      ],
      "metadata": {
        "id": "nExY3iOnQkpp"
      }
    },
    {
      "cell_type": "code",
      "execution_count": null,
      "metadata": {
        "colab": {
          "base_uri": "https://localhost:8080/"
        },
        "id": "OguouzIzsh85",
        "outputId": "5d8afb84-b82b-4b8a-c57e-a37291355fcb"
      },
      "outputs": [
        {
          "output_type": "stream",
          "name": "stdout",
          "text": [
            "Requirement already satisfied: pandas in /usr/local/lib/python3.10/dist-packages (2.2.2)\n",
            "Requirement already satisfied: numpy>=1.22.4 in /usr/local/lib/python3.10/dist-packages (from pandas) (1.26.4)\n",
            "Requirement already satisfied: python-dateutil>=2.8.2 in /usr/local/lib/python3.10/dist-packages (from pandas) (2.8.2)\n",
            "Requirement already satisfied: pytz>=2020.1 in /usr/local/lib/python3.10/dist-packages (from pandas) (2024.2)\n",
            "Requirement already satisfied: tzdata>=2022.7 in /usr/local/lib/python3.10/dist-packages (from pandas) (2024.2)\n",
            "Requirement already satisfied: six>=1.5 in /usr/local/lib/python3.10/dist-packages (from python-dateutil>=2.8.2->pandas) (1.17.0)\n"
          ]
        }
      ],
      "source": [
        "!pip install pandas"
      ]
    },
    {
      "cell_type": "code",
      "source": [
        "# Check versions of the libraries\n",
        "try:\n",
        "    import numpy\n",
        "    print(f\"NumPy is installed. Version: {numpy.__version__}\")\n",
        "except ImportError:\n",
        "    print(\"NumPy is NOT installed.\")\n",
        "\n",
        "try:\n",
        "    import scipy\n",
        "    print(f\"SciPy is installed. Version: {scipy.__version__}\")\n",
        "except ImportError:\n",
        "    print(\"SciPy is NOT installed.\")\n",
        "\n",
        "try:\n",
        "    import sklearn\n",
        "    print(f\"Scikit-Learn is installed. Version: {sklearn.__version__}\")\n",
        "except ImportError:\n",
        "    print(\"Scikit-Learn is NOT installed.\")\n"
      ],
      "metadata": {
        "colab": {
          "base_uri": "https://localhost:8080/"
        },
        "id": "Pd-2EhcKvhVo",
        "outputId": "0dc31984-e52f-4b74-8894-20c12446fcfd"
      },
      "execution_count": null,
      "outputs": [
        {
          "output_type": "stream",
          "name": "stdout",
          "text": [
            "NumPy is installed. Version: 1.26.4\n",
            "SciPy is installed. Version: 1.13.1\n",
            "Scikit-Learn is installed. Version: 1.6.0\n"
          ]
        }
      ]
    },
    {
      "cell_type": "code",
      "source": [
        "import pandas as pd\n",
        "\n",
        "# Load the CSV file\n",
        "df = pd.read_csv(\"/content/IMDB Dataset.csv\")\n",
        "\n",
        "# Display the first few rows of the DataFrame\n",
        "print(df.head())\n"
      ],
      "metadata": {
        "colab": {
          "base_uri": "https://localhost:8080/"
        },
        "id": "HtnkxEPav0sE",
        "outputId": "9afd8b34-bf09-43da-e602-741881d1b2fa"
      },
      "execution_count": null,
      "outputs": [
        {
          "output_type": "stream",
          "name": "stdout",
          "text": [
            "                                              review sentiment\n",
            "0  One of the other reviewers has mentioned that ...  positive\n",
            "1  A wonderful little production. <br /><br />The...  positive\n",
            "2  I thought this was a wonderful way to spend ti...  positive\n",
            "3  Basically there's a family where a little boy ...  negative\n",
            "4  Petter Mattei's \"Love in the Time of Money\" is...  positive\n"
          ]
        }
      ]
    },
    {
      "cell_type": "code",
      "source": [
        "print(f\"The number of reviews we have is {df.shape[0]}\")\n"
      ],
      "metadata": {
        "colab": {
          "base_uri": "https://localhost:8080/"
        },
        "id": "bFyRAlrWxBMk",
        "outputId": "0389b2fb-23b7-4a1a-d454-e44c296399d7"
      },
      "execution_count": null,
      "outputs": [
        {
          "output_type": "stream",
          "name": "stdout",
          "text": [
            "The number of reviews we have is 50000\n"
          ]
        }
      ]
    },
    {
      "cell_type": "code",
      "source": [
        "df['review'] = df['review'].str.replace('<br /><br />', '', regex=False)\n"
      ],
      "metadata": {
        "id": "di0jD4R30aAd"
      },
      "execution_count": null,
      "outputs": []
    },
    {
      "cell_type": "code",
      "source": [
        "print(df.head(20))"
      ],
      "metadata": {
        "colab": {
          "base_uri": "https://localhost:8080/"
        },
        "id": "DGeDD7Mx0iGw",
        "outputId": "51f7e0ee-2e81-49b3-d64e-721c8829eb8f"
      },
      "execution_count": null,
      "outputs": [
        {
          "output_type": "stream",
          "name": "stdout",
          "text": [
            "                                               review sentiment\n",
            "0   One of the other reviewers has mentioned that ...  positive\n",
            "1   A wonderful little production. The filming tec...  positive\n",
            "2   I thought this was a wonderful way to spend ti...  positive\n",
            "3   Basically there's a family where a little boy ...  negative\n",
            "4   Petter Mattei's \"Love in the Time of Money\" is...  positive\n",
            "5   Probably my all-time favorite movie, a story o...  positive\n",
            "6   I sure would like to see a resurrection of a u...  positive\n",
            "7   This show was an amazing, fresh & innovative i...  negative\n",
            "8   Encouraged by the positive comments about this...  negative\n",
            "9   If you like original gut wrenching laughter yo...  positive\n",
            "10  Phil the Alien is one of those quirky films wh...  negative\n",
            "11  I saw this movie when I was about 12 when it c...  negative\n",
            "12  So im not a big fan of Boll's work but then ag...  negative\n",
            "13  The cast played Shakespeare.Shakespeare lost.I...  negative\n",
            "14  This a fantastic movie of three prisoners who ...  positive\n",
            "15  Kind of drawn in by the erotic scenes, only to...  negative\n",
            "16  Some films just simply should not be remade. T...  positive\n",
            "17  This movie made it into one of my top 10 most ...  negative\n",
            "18  I remember this film,it was the first film i h...  positive\n",
            "19  An awful film! It must have been up against so...  negative\n"
          ]
        }
      ]
    },
    {
      "cell_type": "code",
      "source": [
        "with open('ass2.txt', 'w', encoding='utf-8') as file:\n",
        "    for review in df['review']:\n",
        "        file.write(review + '\\n')  #\n"
      ],
      "metadata": {
        "id": "VSTLBAbKD69e"
      },
      "execution_count": null,
      "outputs": []
    },
    {
      "cell_type": "code",
      "source": [
        "df['sentiment_label'] = df['sentiment'].map({'positive': 1, 'negative': 0})\n"
      ],
      "metadata": {
        "id": "nQTSHpJQBWDB"
      },
      "execution_count": null,
      "outputs": []
    },
    {
      "cell_type": "code",
      "source": [
        "from sklearn.feature_extraction.text import CountVectorizer\n",
        "\n",
        "# Step 1: Read the text file\n",
        "with open('ass2.txt', 'r') as file:\n",
        "    lines = file.readlines()\n",
        "\n",
        "# Step 2: Initialize CountVectorizer\n",
        "vectorizer = CountVectorizer()\n",
        "\n",
        "# Step 3: Fit and Transform the text data\n",
        "X = vectorizer.fit_transform(lines)\n",
        "\n",
        "# Step 4: Display the results\n",
        "# Vocabulary\n",
        "print(\"Vocabulary:\", vectorizer.get_feature_names_out())\n",
        "\n",
        "# Sparse Matrix\n",
        "print(\"Sparse Matrix Shape:\", X.shape)\n",
        "\n"
      ],
      "metadata": {
        "colab": {
          "base_uri": "https://localhost:8080/"
        },
        "id": "YbFkqBvK18BK",
        "outputId": "e5e81e57-dcef-494a-d7ab-a2222f9d0292"
      },
      "execution_count": null,
      "outputs": [
        {
          "output_type": "stream",
          "name": "stdout",
          "text": [
            "Vocabulary: ['00' '000' '00000000000' ... 'żmijewski' 'יגאל' 'כרמון']\n",
            "Sparse Matrix Shape: (50000, 104089)\n"
          ]
        }
      ]
    },
    {
      "cell_type": "code",
      "source": [
        "from sklearn.linear_model import LogisticRegression\n",
        "from sklearn.metrics import classification_report\n",
        "from sklearn.model_selection import train_test_split\n",
        "\n",
        "# Assuming `sparse_matrix` is your sparse feature matrix (X) and `labels` is the target (y)\n",
        "x= X\n",
        "y = df['sentiment_label']  # Replace with your actual target labels\n",
        "\n",
        "# Split data into training and testing sets\n",
        "X_train, X_test, y_train, y_test = train_test_split(x, y, test_size=0.2, random_state=42)\n",
        "\n",
        "# Train a logistic regression model (supports sparse input)\n",
        "model = LogisticRegression()\n",
        "model.fit(X_train, y_train)\n",
        "\n",
        "# Predict on the test set\n",
        "y_pred_model_1 = model.predict(X_test)\n",
        "report_1= classification_report(y_test, y_pred_model_1)\n",
        "# Evaluate the model\n",
        "print(report_1)\n"
      ],
      "metadata": {
        "colab": {
          "base_uri": "https://localhost:8080/"
        },
        "id": "wm6g6XyCMKbb",
        "outputId": "4da6a952-5601-4a13-f9aa-09d29d522f0a"
      },
      "execution_count": null,
      "outputs": [
        {
          "output_type": "stream",
          "name": "stdout",
          "text": [
            "              precision    recall  f1-score   support\n",
            "\n",
            "           0       0.89      0.89      0.89      4961\n",
            "           1       0.89      0.89      0.89      5039\n",
            "\n",
            "    accuracy                           0.89     10000\n",
            "   macro avg       0.89      0.89      0.89     10000\n",
            "weighted avg       0.89      0.89      0.89     10000\n",
            "\n"
          ]
        },
        {
          "output_type": "stream",
          "name": "stderr",
          "text": [
            "/usr/local/lib/python3.10/dist-packages/sklearn/linear_model/_logistic.py:465: ConvergenceWarning: lbfgs failed to converge (status=1):\n",
            "STOP: TOTAL NO. of ITERATIONS REACHED LIMIT.\n",
            "\n",
            "Increase the number of iterations (max_iter) or scale the data as shown in:\n",
            "    https://scikit-learn.org/stable/modules/preprocessing.html\n",
            "Please also refer to the documentation for alternative solver options:\n",
            "    https://scikit-learn.org/stable/modules/linear_model.html#logistic-regression\n",
            "  n_iter_i = _check_optimize_result(\n"
          ]
        }
      ]
    },
    {
      "cell_type": "code",
      "source": [
        "from sklearn.naive_bayes import MultinomialNB\n",
        "\n",
        "nb_model = MultinomialNB()\n",
        "\n",
        "# Train the model on the training data\n",
        "nb_model.fit(X_train, y_train)\n",
        "\n",
        "# Make predictions on the test data\n",
        "y_pred_model_2 = nb_model.predict(X_test)\n",
        "report_2= classification_report(y_test, y_pred_model_2)\n",
        "# Evaluate the model using classification report\n",
        "print(report_2)\n"
      ],
      "metadata": {
        "colab": {
          "base_uri": "https://localhost:8080/"
        },
        "id": "43CwqK09NYM6",
        "outputId": "ebbe3a52-f6f1-4691-c306-e9abeb6113db"
      },
      "execution_count": null,
      "outputs": [
        {
          "output_type": "stream",
          "name": "stdout",
          "text": [
            "              precision    recall  f1-score   support\n",
            "\n",
            "           0       0.83      0.88      0.85      4961\n",
            "           1       0.87      0.82      0.85      5039\n",
            "\n",
            "    accuracy                           0.85     10000\n",
            "   macro avg       0.85      0.85      0.85     10000\n",
            "weighted avg       0.85      0.85      0.85     10000\n",
            "\n"
          ]
        }
      ]
    },
    {
      "cell_type": "code",
      "source": [
        "import matplotlib.pyplot as plt\n",
        "import numpy as np\n",
        "from sklearn.metrics import classification_report\n",
        "\n",
        "# Example classification reports from two models (replace with your actual reports)\n",
        "report_1 = classification_report(y_test, y_pred_model_1, output_dict=True)\n",
        "report_2 = classification_report(y_test, y_pred_model_2, output_dict=True)\n",
        "\n",
        "# Extract precision, recall, and f1-score for class 0 and class 1\n",
        "metrics = ['precision', 'recall', 'f1-score']\n",
        "classes = ['0', '1']\n",
        "\n",
        "# Prepare data for plotting by extracting precision, recall, and f1-score for each class\n",
        "model_1_metrics = {\n",
        "    '0': [report_1['0'][metric] for metric in metrics],\n",
        "    '1': [report_1['1'][metric] for metric in metrics]\n",
        "}\n",
        "\n",
        "model_2_metrics = {\n",
        "    '0': [report_2['0'][metric] for metric in metrics],\n",
        "    '1': [report_2['1'][metric] for metric in metrics]\n",
        "}\n",
        "\n",
        "# Create an index for the x-axis (metrics: precision, recall, f1-score)\n",
        "x = np.arange(len(metrics))  # Positions of the bars\n",
        "width = 0.35  # Width of the bars\n",
        "\n",
        "fig, ax = plt.subplots(figsize=(10, 6))\n",
        "\n",
        "# Plot bars for both models\n",
        "rects1 = ax.bar(x - width/2, model_1_metrics['0'], width, label='Model 1 (Class 0)', color='blue')\n",
        "rects2 = ax.bar(x + width/2, model_1_metrics['1'], width, label='Model 1 (Class 1)', color='cyan')\n",
        "rects3 = ax.bar(x - width/2, model_2_metrics['0'], width, label='Model 2 (Class 0)', color='orange')\n",
        "rects4 = ax.bar(x + width/2, model_2_metrics['1'], width, label='Model 2 (Class 1)', color='yellow')\n",
        "\n",
        "# Labeling the axes\n",
        "ax.set_xlabel('Metrics')\n",
        "ax.set_ylabel('Scores')\n",
        "ax.set_title('Comparison of Classification Reports')\n",
        "ax.set_xticks(x)\n",
        "ax.set_xticklabels(metrics)\n",
        "ax.legend()\n",
        "\n",
        "# Show plot\n",
        "plt.show()\n"
      ],
      "metadata": {
        "colab": {
          "base_uri": "https://localhost:8080/",
          "height": 564
        },
        "id": "v_fS9tZkN7xM",
        "outputId": "27f5dd50-8c83-467d-d2cc-e3b84608cefb"
      },
      "execution_count": null,
      "outputs": [
        {
          "output_type": "display_data",
          "data": {
            "text/plain": [
              "<Figure size 1000x600 with 1 Axes>"
            ],
            "image/png": "[encoded data removed]"
          },
          "metadata": {}
        }
      ]
    },
    {
      "cell_type": "markdown",
      "source": [
        "Model 1 belongs to Logistic Regression.\n",
        "We can see fro the chart that for both classes the precision of Model 1 that is model 1 has greater precision, recall and f1-score than model 2. So logistics Regression model is better than Naive Bayes model.\n"
      ],
      "metadata": {
        "id": "EWlHS9mHBcE7"
      }
    },
    {
      "cell_type": "markdown",
      "source": [
        "# Task 2"
      ],
      "metadata": {
        "id": "sVX0cUiQBfXG"
      }
    },
    {
      "cell_type": "code",
      "source": [
        "from sklearn.feature_extraction.text import TfidfVectorizer\n",
        "\n",
        "# Step 1: Read the text file\n",
        "with open('ass2.txt', 'r') as file:\n",
        "    lines = file.readlines()\n",
        "\n",
        "# Step 2: Initialize CountVectorizer\n",
        "vectorizer = TfidfVectorizer()\n",
        "\n",
        "# Step 3: Fit and Transform the text data\n",
        "X = vectorizer.fit_transform(lines)\n",
        "\n",
        "# Step 4: Display the results\n",
        "# Vocabulary\n",
        "print(\"Vocabulary:\", vectorizer.get_feature_names_out())\n",
        "\n",
        "# Sparse Matrix\n",
        "print(\"Sparse Matrix Shape:\", X.shape)\n",
        "\n"
      ],
      "metadata": {
        "colab": {
          "base_uri": "https://localhost:8080/"
        },
        "id": "RC3EYHr5XzDH",
        "outputId": "66463610-9308-450d-c6f5-0d1009abfa90"
      },
      "execution_count": null,
      "outputs": [
        {
          "output_type": "stream",
          "name": "stdout",
          "text": [
            "Vocabulary: ['00' '000' '00000000000' ... 'żmijewski' 'יגאל' 'כרמון']\n",
            "Sparse Matrix Shape: (50000, 104089)\n"
          ]
        }
      ]
    },
    {
      "cell_type": "code",
      "source": [
        "from sklearn.linear_model import LogisticRegression\n",
        "from sklearn.metrics import classification_report\n",
        "from sklearn.model_selection import train_test_split\n",
        "\n",
        "# Assuming `sparse_matrix` is your sparse feature matrix (X) and `labels` is the target (y)\n",
        "x= X\n",
        "y = df['sentiment_label']  # Replace with your actual target labels\n",
        "\n",
        "# Split data into training and testing sets\n",
        "X_train, X_test, y_train, y_test = train_test_split(x, y, test_size=0.2, random_state=42)\n",
        "\n",
        "# Train a logistic regression model (supports sparse input)\n",
        "model = LogisticRegression()\n",
        "model.fit(X_train, y_train)\n",
        "\n",
        "# Predict on the test set\n",
        "y_pred_model_3 = model.predict(X_test)\n",
        "report_3= classification_report(y_test, y_pred_model_3)\n",
        "# Evaluate the model\n",
        "print(report_3)\n"
      ],
      "metadata": {
        "colab": {
          "base_uri": "https://localhost:8080/"
        },
        "id": "uykOkz84ZPn2",
        "outputId": "7c1a82e0-591f-47ad-c78b-8a267293a282"
      },
      "execution_count": null,
      "outputs": [
        {
          "output_type": "stream",
          "name": "stdout",
          "text": [
            "              precision    recall  f1-score   support\n",
            "\n",
            "           0       0.91      0.89      0.90      4961\n",
            "           1       0.89      0.91      0.90      5039\n",
            "\n",
            "    accuracy                           0.90     10000\n",
            "   macro avg       0.90      0.90      0.90     10000\n",
            "weighted avg       0.90      0.90      0.90     10000\n",
            "\n"
          ]
        }
      ]
    },
    {
      "cell_type": "code",
      "source": [
        "from sklearn.naive_bayes import MultinomialNB\n",
        "\n",
        "nb_model = MultinomialNB()\n",
        "\n",
        "# Train the model on the training data\n",
        "nb_model.fit(X_train, y_train)\n",
        "\n",
        "# Make predictions on the test data\n",
        "y_pred_model_4 = nb_model.predict(X_test)\n",
        "report_4= classification_report(y_test, y_pred_model_4)\n",
        "# Evaluate the model using classification report\n",
        "print(report_4)\n"
      ],
      "metadata": {
        "colab": {
          "base_uri": "https://localhost:8080/"
        },
        "id": "709l1kYnZTm3",
        "outputId": "8936738c-e797-4c98-a358-72ff324606af"
      },
      "execution_count": null,
      "outputs": [
        {
          "output_type": "stream",
          "name": "stdout",
          "text": [
            "              precision    recall  f1-score   support\n",
            "\n",
            "           0       0.84      0.89      0.87      4961\n",
            "           1       0.88      0.84      0.86      5039\n",
            "\n",
            "    accuracy                           0.86     10000\n",
            "   macro avg       0.86      0.86      0.86     10000\n",
            "weighted avg       0.86      0.86      0.86     10000\n",
            "\n"
          ]
        }
      ]
    },
    {
      "cell_type": "code",
      "source": [
        "import matplotlib.pyplot as plt\n",
        "import numpy as np\n",
        "from sklearn.metrics import classification_report\n",
        "\n",
        "# Example classification reports (replace with your actual data)\n",
        "# Replace `y_test` and `y_pred_model_*` with your actual test labels and predictions\n",
        "report_1 = classification_report(y_test, y_pred_model_1, output_dict=True)\n",
        "report_2 = classification_report(y_test, y_pred_model_2, output_dict=True)\n",
        "report_3 = classification_report(y_test, y_pred_model_3, output_dict=True)\n",
        "report_4 = classification_report(y_test, y_pred_model_4, output_dict=True)\n",
        "\n",
        "# Metrics and classes to plot\n",
        "metrics = ['precision', 'recall', 'f1-score']\n",
        "classes = ['0', '1']\n",
        "\n",
        "# Extract data for all models\n",
        "model_reports = {\n",
        "    \"Model 1\": report_1,\n",
        "    \"Model 2\": report_2,\n",
        "    \"Model 3\": report_3,\n",
        "    \"Model 4\": report_4\n",
        "}\n",
        "\n",
        "# Prepare data for plotting\n",
        "plot_data = {metric: {cls: [] for cls in classes} for metric in metrics}\n",
        "\n",
        "for model_name, report in model_reports.items():\n",
        "    for metric in metrics:\n",
        "        for cls in classes:\n",
        "            plot_data[metric][cls].append(report[cls][metric])\n",
        "\n",
        "# Plot grouped bar charts for each metric\n",
        "# Create a new x-axis index for each class\n",
        "x = np.arange(len(classes))  # Positions for classes (0 and 1)\n",
        "width = 0.2  # Bar width\n",
        "\n",
        "fig, axes = plt.subplots(1, len(metrics), figsize=(15, 6), sharey=True)\n",
        "\n",
        "for i, metric in enumerate(metrics):\n",
        "    ax = axes[i]\n",
        "    for j, model_name in enumerate(model_reports.keys()):\n",
        "        # Extract data for the current metric and model\n",
        "        data = [plot_data[metric][cls][j] for cls in classes]  # Data for class 0 and class 1\n",
        "        ax.bar(x + (j - 1.5) * width, data, width, label=model_name)\n",
        "\n",
        "    ax.set_title(f'{metric.capitalize()}')\n",
        "    ax.set_xlabel('Classes')\n",
        "    ax.set_xticks(x)\n",
        "    ax.set_xticklabels(classes)\n",
        "    ax.legend()\n",
        "\n",
        "axes[0].set_ylabel('Score')\n",
        "plt.suptitle('Comparison of Classification Metrics Across Models')\n",
        "plt.tight_layout()\n",
        "plt.show()\n",
        "\n"
      ],
      "metadata": {
        "colab": {
          "base_uri": "https://localhost:8080/",
          "height": 540
        },
        "id": "24WsuetZCIUu",
        "outputId": "06034d0d-8ed4-48a7-bb40-b2ca58305d5b"
      },
      "execution_count": null,
      "outputs": [
        {
          "output_type": "display_data",
          "data": {
            "text/plain": [
              "<Figure size 1500x600 with 3 Axes>"
            ],
            "image/png": "[encoded data removed]"
          },
          "metadata": {}
        }
      ]
    },
    {
      "cell_type": "markdown",
      "source": [
        "Model 1 and Model 2 belong to Logistic Regression and Naive Bayes models of Bag of words. Model 3 and Model 4 belong Logistics Regression and Naive Bayes model of TF-IDF. We can from the charts that regression model in both bag of words and TF-IDf performed better than Naive Bayes.\n",
        "\n",
        "Although TF-IDF performed sligtliy better than BOW, there is no significant difference in the models of TF-IDF and BOW.\n",
        "\n",
        "In my experiment both bag of words and TF-IDF are almost same with TF-IDF having a slight upperhand."
      ],
      "metadata": {
        "id": "AA-t-ykaDw8d"
      }
    },
    {
      "cell_type": "markdown",
      "source": [
        "# Task 3"
      ],
      "metadata": {
        "id": "hUd2j5-IMd2d"
      }
    },
    {
      "cell_type": "markdown",
      "source": [
        "We can see from the chart that for both classes the precision of Model 1 that is"
      ],
      "metadata": {
        "id": "xQAHErqt459U"
      }
    },
    {
      "cell_type": "code",
      "source": [
        "!pip install tensorflow\n"
      ],
      "metadata": {
        "collapsed": true,
        "colab": {
          "base_uri": "https://localhost:8080/"
        },
        "id": "J7K81f0389Zn",
        "outputId": "73978872-f210-4a3f-9509-71b68345803a"
      },
      "execution_count": null,
      "outputs": [
        {
          "output_type": "stream",
          "name": "stdout",
          "text": [
            "Requirement already satisfied: tensorflow in /usr/local/lib/python3.10/dist-packages (2.17.1)\n",
            "Requirement already satisfied: absl-py>=1.0.0 in /usr/local/lib/python3.10/dist-packages (from tensorflow) (1.4.0)\n",
            "Requirement already satisfied: astunparse>=1.6.0 in /usr/local/lib/python3.10/dist-packages (from tensorflow) (1.6.3)\n",
            "Requirement already satisfied: flatbuffers>=24.3.25 in /usr/local/lib/python3.10/dist-packages (from tensorflow) (24.12.23)\n",
            "Requirement already satisfied: gast!=0.5.0,!=0.5.1,!=0.5.2,>=0.2.1 in /usr/local/lib/python3.10/dist-packages (from tensorflow) (0.6.0)\n",
            "Requirement already satisfied: google-pasta>=0.1.1 in /usr/local/lib/python3.10/dist-packages (from tensorflow) (0.2.0)\n",
            "Requirement already satisfied: h5py>=3.10.0 in /usr/local/lib/python3.10/dist-packages (from tensorflow) (3.12.1)\n",
            "Requirement already satisfied: libclang>=13.0.0 in /usr/local/lib/python3.10/dist-packages (from tensorflow) (18.1.1)\n",
            "Requirement already satisfied: ml-dtypes<0.5.0,>=0.3.1 in /usr/local/lib/python3.10/dist-packages (from tensorflow) (0.4.1)\n",
            "Requirement already satisfied: opt-einsum>=2.3.2 in /usr/local/lib/python3.10/dist-packages (from tensorflow) (3.4.0)\n",
            "Requirement already satisfied: packaging in /usr/local/lib/python3.10/dist-packages (from tensorflow) (24.2)\n",
            "Requirement already satisfied: protobuf!=4.21.0,!=4.21.1,!=4.21.2,!=4.21.3,!=4.21.4,!=4.21.5,<5.0.0dev,>=3.20.3 in /usr/local/lib/python3.10/dist-packages (from tensorflow) (4.25.5)\n",
            "Requirement already satisfied: requests<3,>=2.21.0 in /usr/local/lib/python3.10/dist-packages (from tensorflow) (2.32.3)\n",
            "Requirement already satisfied: setuptools in /usr/local/lib/python3.10/dist-packages (from tensorflow) (75.1.0)\n",
            "Requirement already satisfied: six>=1.12.0 in /usr/local/lib/python3.10/dist-packages (from tensorflow) (1.17.0)\n",
            "Requirement already satisfied: termcolor>=1.1.0 in /usr/local/lib/python3.10/dist-packages (from tensorflow) (2.5.0)\n",
            "Requirement already satisfied: typing-extensions>=3.6.6 in /usr/local/lib/python3.10/dist-packages (from tensorflow) (4.12.2)\n",
            "Requirement already satisfied: wrapt>=1.11.0 in /usr/local/lib/python3.10/dist-packages (from tensorflow) (1.17.0)\n",
            "Requirement already satisfied: grpcio<2.0,>=1.24.3 in /usr/local/lib/python3.10/dist-packages (from tensorflow) (1.69.0)\n",
            "Requirement already satisfied: tensorboard<2.18,>=2.17 in /usr/local/lib/python3.10/dist-packages (from tensorflow) (2.17.1)\n",
            "Requirement already satisfied: keras>=3.2.0 in /usr/local/lib/python3.10/dist-packages (from tensorflow) (3.5.0)\n",
            "Requirement already satisfied: tensorflow-io-gcs-filesystem>=0.23.1 in /usr/local/lib/python3.10/dist-packages (from tensorflow) (0.37.1)\n",
            "Requirement already satisfied: numpy<2.0.0,>=1.23.5 in /usr/local/lib/python3.10/dist-packages (from tensorflow) (1.26.4)\n",
            "Requirement already satisfied: wheel<1.0,>=0.23.0 in /usr/local/lib/python3.10/dist-packages (from astunparse>=1.6.0->tensorflow) (0.45.1)\n",
            "Requirement already satisfied: rich in /usr/local/lib/python3.10/dist-packages (from keras>=3.2.0->tensorflow) (13.9.4)\n",
            "Requirement already satisfied: namex in /usr/local/lib/python3.10/dist-packages (from keras>=3.2.0->tensorflow) (0.0.8)\n",
            "Requirement already satisfied: optree in /usr/local/lib/python3.10/dist-packages (from keras>=3.2.0->tensorflow) (0.13.1)\n",
            "Requirement already satisfied: charset-normalizer<4,>=2 in /usr/local/lib/python3.10/dist-packages (from requests<3,>=2.21.0->tensorflow) (3.4.1)\n",
            "Requirement already satisfied: idna<4,>=2.5 in /usr/local/lib/python3.10/dist-packages (from requests<3,>=2.21.0->tensorflow) (3.10)\n",
            "Requirement already satisfied: urllib3<3,>=1.21.1 in /usr/local/lib/python3.10/dist-packages (from requests<3,>=2.21.0->tensorflow) (2.3.0)\n",
            "Requirement already satisfied: certifi>=2017.4.17 in /usr/local/lib/python3.10/dist-packages (from requests<3,>=2.21.0->tensorflow) (2024.12.14)\n",
            "Requirement already satisfied: markdown>=2.6.8 in /usr/local/lib/python3.10/dist-packages (from tensorboard<2.18,>=2.17->tensorflow) (3.7)\n",
            "Requirement already satisfied: tensorboard-data-server<0.8.0,>=0.7.0 in /usr/local/lib/python3.10/dist-packages (from tensorboard<2.18,>=2.17->tensorflow) (0.7.2)\n",
            "Requirement already satisfied: werkzeug>=1.0.1 in /usr/local/lib/python3.10/dist-packages (from tensorboard<2.18,>=2.17->tensorflow) (3.1.3)\n",
            "Requirement already satisfied: MarkupSafe>=2.1.1 in /usr/local/lib/python3.10/dist-packages (from werkzeug>=1.0.1->tensorboard<2.18,>=2.17->tensorflow) (3.0.2)\n",
            "Requirement already satisfied: markdown-it-py>=2.2.0 in /usr/local/lib/python3.10/dist-packages (from rich->keras>=3.2.0->tensorflow) (3.0.0)\n",
            "Requirement already satisfied: pygments<3.0.0,>=2.13.0 in /usr/local/lib/python3.10/dist-packages (from rich->keras>=3.2.0->tensorflow) (2.18.0)\n",
            "Requirement already satisfied: mdurl~=0.1 in /usr/local/lib/python3.10/dist-packages (from markdown-it-py>=2.2.0->rich->keras>=3.2.0->tensorflow) (0.1.2)\n"
          ]
        }
      ]
    },
    {
      "cell_type": "code",
      "source": [
        "import numpy as np\n",
        "import pandas as pd\n",
        "from tensorflow.keras.preprocessing.text import Tokenizer\n",
        "from tensorflow.keras.preprocessing.sequence import pad_sequences\n",
        "from tensorflow.keras.models import Sequential\n",
        "from tensorflow.keras.layers import Embedding, Dense, Flatten\n",
        "from sklearn.model_selection import train_test_split\n",
        "\n",
        "# Step 1: Load and preprocess the dataset\n",
        "df = pd.read_csv(\"/content/IMDB Dataset.csv\")  # Replace with your dataset path\n",
        "texts = df['review'].values\n",
        "labels = df['sentiment'].apply(lambda x: 1 if x == 'positive' else 0).values\n",
        "\n",
        "# Tokenize and pad sequences\n",
        "tokenizer = Tokenizer()  # Use top 20k words\n",
        "tokenizer.fit_on_texts(texts)\n",
        "sequences = tokenizer.texts_to_sequences(texts)\n",
        "word_index = tokenizer.word_index\n",
        "data = pad_sequences(sequences, maxlen=200)  # Pad sequences to length 200\n",
        "\n",
        "# Split into train and test sets\n",
        "X_train, X_test, y_train, y_test = train_test_split(data, labels, test_size=0.2, random_state=42)\n",
        "\n",
        "# Step 2: Load GloVe embeddings\n",
        "embedding_index = {}\n",
        "with open(\"/content/glove.6B.100d.txt\", encoding=\"utf-8\") as f:  # Replace with your path to GloVe\n",
        "    for line in f:\n",
        "        values = line.split()\n",
        "        word = values[0]\n",
        "        coefs = np.asarray(values[1:], dtype='float32')\n",
        "        embedding_index[word] = coefs\n",
        "\n",
        "# Create embedding matrix\n",
        "embedding_dim = 100\n",
        "embedding_matrix = np.zeros((len(word_index) + 1, embedding_dim))\n",
        "for word, i in word_index.items():\n",
        "    if i < len(word_index) + 1:\n",
        "        embedding_vector = embedding_index.get(word)\n",
        "        if embedding_vector is not None:\n",
        "            embedding_matrix[i] = embedding_vector\n",
        "\n",
        "# Step 3: Define the model\n",
        "from tensorflow.keras.layers import GlobalAveragePooling1D\n",
        "\n",
        "# Step 3: Define the model\n",
        "model = Sequential()\n",
        "model.add(Embedding(len(word_index) + 1,\n",
        "                    embedding_dim,\n",
        "                    weights=[embedding_matrix],\n",
        "                    input_length=200,\n",
        "                    trainable=False))\n",
        "model.add(GlobalAveragePooling1D())  # Reduces (batch_size, sequence_length, embedding_dim) -> (batch_size, embedding_dim)\n",
        "model.add(Dense(10, activation='relu'))\n",
        "model.add(Dense(1, activation='sigmoid'))\n",
        "\n",
        "# Compile the model\n",
        "model.compile(optimizer='adam', loss='binary_crossentropy', metrics=['accuracy'])\n",
        "\n",
        "# Step 4: Train the model\n",
        "history = model.fit(X_train, y_train, epochs=50, batch_size=32, validation_data=(X_test, y_test))\n",
        "\n",
        "# Evaluate the model\n",
        "loss, accuracy = model.evaluate(X_test, y_test)\n",
        "print(f\"Test Accuracy: {accuracy:.4f}\")\n",
        "\n",
        "# Visualize training progress\n",
        "import matplotlib.pyplot as plt\n",
        "\n",
        "plt.plot(history.history['accuracy'], label='Train Accuracy')\n",
        "plt.plot(history.history['val_accuracy'], label='Validation Accuracy')\n",
        "plt.xlabel('Epochs')\n",
        "plt.ylabel('Accuracy')\n",
        "plt.legend()\n",
        "plt.show()\n"
      ],
      "metadata": {
        "colab": {
          "base_uri": "https://localhost:8080/",
          "height": 1000
        },
        "id": "76fU6tNd8rEh",
        "outputId": "3865e0a1-cc54-4821-d723-e7839c91e9a6"
      },
      "execution_count": null,
      "outputs": [
        {
          "output_type": "stream",
          "name": "stderr",
          "text": [
            "/usr/local/lib/python3.10/dist-packages/keras/src/layers/core/embedding.py:90: UserWarning: Argument `input_length` is deprecated. Just remove it.\n",
            "  warnings.warn(\n"
          ]
        },
        {
          "output_type": "stream",
          "name": "stdout",
          "text": [
            "Epoch 1/50\n",
            "\u001b[1m1250/1250\u001b[0m \u001b[32m━━━━━━━━━━━━━━━━━━━━\u001b[0m\u001b[37m\u001b[0m \u001b[1m6s\u001b[0m 3ms/step - accuracy: 0.6097 - loss: 0.6652 - val_accuracy: 0.7279 - val_loss: 0.5645\n",
            "Epoch 2/50\n",
            "\u001b[1m1250/1250\u001b[0m \u001b[32m━━━━━━━━━━━━━━━━━━━━\u001b[0m\u001b[37m\u001b[0m \u001b[1m3s\u001b[0m 3ms/step - accuracy: 0.7412 - loss: 0.5484 - val_accuracy: 0.7558 - val_loss: 0.5180\n",
            "Epoch 3/50\n",
            "\u001b[1m1250/1250\u001b[0m \u001b[32m━━━━━━━━━━━━━━━━━━━━\u001b[0m\u001b[37m\u001b[0m \u001b[1m5s\u001b[0m 4ms/step - accuracy: 0.7609 - loss: 0.5136 - val_accuracy: 0.7645 - val_loss: 0.5017\n",
            "Epoch 4/50\n",
            "\u001b[1m1250/1250\u001b[0m \u001b[32m━━━━━━━━━━━━━━━━━━━━\u001b[0m\u001b[37m\u001b[0m \u001b[1m3s\u001b[0m 2ms/step - accuracy: 0.7721 - loss: 0.4948 - val_accuracy: 0.7699 - val_loss: 0.4928\n",
            "Epoch 5/50\n",
            "\u001b[1m1250/1250\u001b[0m \u001b[32m━━━━━━━━━━━━━━━━━━━━\u001b[0m\u001b[37m\u001b[0m \u001b[1m5s\u001b[0m 2ms/step - accuracy: 0.7732 - loss: 0.4900 - val_accuracy: 0.7761 - val_loss: 0.4874\n",
            "Epoch 6/50\n",
            "\u001b[1m1250/1250\u001b[0m \u001b[32m━━━━━━━━━━━━━━━━━━━━\u001b[0m\u001b[37m\u001b[0m \u001b[1m4s\u001b[0m 3ms/step - accuracy: 0.7794 - loss: 0.4838 - val_accuracy: 0.7764 - val_loss: 0.4838\n",
            "Epoch 7/50\n",
            "\u001b[1m1250/1250\u001b[0m \u001b[32m━━━━━━━━━━━━━━━━━━━━\u001b[0m\u001b[37m\u001b[0m \u001b[1m3s\u001b[0m 3ms/step - accuracy: 0.7781 - loss: 0.4788 - val_accuracy: 0.7712 - val_loss: 0.4861\n",
            "Epoch 8/50\n",
            "\u001b[1m1250/1250\u001b[0m \u001b[32m━━━━━━━━━━━━━━━━━━━━\u001b[0m\u001b[37m\u001b[0m \u001b[1m4s\u001b[0m 2ms/step - accuracy: 0.7795 - loss: 0.4798 - val_accuracy: 0.7787 - val_loss: 0.4794\n",
            "Epoch 9/50\n",
            "\u001b[1m1250/1250\u001b[0m \u001b[32m━━━━━━━━━━━━━━━━━━━━\u001b[0m\u001b[37m\u001b[0m \u001b[1m6s\u001b[0m 3ms/step - accuracy: 0.7819 - loss: 0.4747 - val_accuracy: 0.7800 - val_loss: 0.4751\n",
            "Epoch 10/50\n",
            "\u001b[1m1250/1250\u001b[0m \u001b[32m━━━━━━━━━━━━━━━━━━━━\u001b[0m\u001b[37m\u001b[0m \u001b[1m4s\u001b[0m 3ms/step - accuracy: 0.7834 - loss: 0.4723 - val_accuracy: 0.7791 - val_loss: 0.4753\n",
            "Epoch 11/50\n",
            "\u001b[1m1250/1250\u001b[0m \u001b[32m━━━━━━━━━━━━━━━━━━━━\u001b[0m\u001b[37m\u001b[0m \u001b[1m3s\u001b[0m 2ms/step - accuracy: 0.7843 - loss: 0.4686 - val_accuracy: 0.7780 - val_loss: 0.4718\n",
            "Epoch 12/50\n",
            "\u001b[1m1250/1250\u001b[0m \u001b[32m━━━━━━━━━━━━━━━━━━━━\u001b[0m\u001b[37m\u001b[0m \u001b[1m5s\u001b[0m 2ms/step - accuracy: 0.7898 - loss: 0.4628 - val_accuracy: 0.7710 - val_loss: 0.4878\n",
            "Epoch 13/50\n",
            "\u001b[1m1250/1250\u001b[0m \u001b[32m━━━━━━━━━━━━━━━━━━━━\u001b[0m\u001b[37m\u001b[0m \u001b[1m3s\u001b[0m 2ms/step - accuracy: 0.7844 - loss: 0.4647 - val_accuracy: 0.7755 - val_loss: 0.4784\n",
            "Epoch 14/50\n",
            "\u001b[1m1250/1250\u001b[0m \u001b[32m━━━━━━━━━━━━━━━━━━━━\u001b[0m\u001b[37m\u001b[0m \u001b[1m4s\u001b[0m 3ms/step - accuracy: 0.7861 - loss: 0.4651 - val_accuracy: 0.7863 - val_loss: 0.4645\n",
            "Epoch 15/50\n",
            "\u001b[1m1250/1250\u001b[0m \u001b[32m━━━━━━━━━━━━━━━━━━━━\u001b[0m\u001b[37m\u001b[0m \u001b[1m3s\u001b[0m 3ms/step - accuracy: 0.7867 - loss: 0.4654 - val_accuracy: 0.7777 - val_loss: 0.4741\n",
            "Epoch 16/50\n",
            "\u001b[1m1250/1250\u001b[0m \u001b[32m━━━━━━━━━━━━━━━━━━━━\u001b[0m\u001b[37m\u001b[0m \u001b[1m3s\u001b[0m 2ms/step - accuracy: 0.7869 - loss: 0.4619 - val_accuracy: 0.7856 - val_loss: 0.4626\n",
            "Epoch 17/50\n",
            "\u001b[1m1250/1250\u001b[0m \u001b[32m━━━━━━━━━━━━━━━━━━━━\u001b[0m\u001b[37m\u001b[0m \u001b[1m5s\u001b[0m 2ms/step - accuracy: 0.7887 - loss: 0.4571 - val_accuracy: 0.7840 - val_loss: 0.4623\n",
            "Epoch 18/50\n",
            "\u001b[1m1250/1250\u001b[0m \u001b[32m━━━━━━━━━━━━━━━━━━━━\u001b[0m\u001b[37m\u001b[0m \u001b[1m3s\u001b[0m 2ms/step - accuracy: 0.7885 - loss: 0.4603 - val_accuracy: 0.7838 - val_loss: 0.4621\n",
            "Epoch 19/50\n",
            "\u001b[1m1250/1250\u001b[0m \u001b[32m━━━━━━━━━━━━━━━━━━━━\u001b[0m\u001b[37m\u001b[0m \u001b[1m5s\u001b[0m 4ms/step - accuracy: 0.7925 - loss: 0.4541 - val_accuracy: 0.7863 - val_loss: 0.4609\n",
            "Epoch 20/50\n",
            "\u001b[1m1250/1250\u001b[0m \u001b[32m━━━━━━━━━━━━━━━━━━━━\u001b[0m\u001b[37m\u001b[0m \u001b[1m8s\u001b[0m 2ms/step - accuracy: 0.7921 - loss: 0.4555 - val_accuracy: 0.7854 - val_loss: 0.4597\n",
            "Epoch 21/50\n",
            "\u001b[1m1250/1250\u001b[0m \u001b[32m━━━━━━━━━━━━━━━━━━━━\u001b[0m\u001b[37m\u001b[0m \u001b[1m5s\u001b[0m 4ms/step - accuracy: 0.7956 - loss: 0.4481 - val_accuracy: 0.7857 - val_loss: 0.4585\n",
            "Epoch 22/50\n",
            "\u001b[1m1250/1250\u001b[0m \u001b[32m━━━━━━━━━━━━━━━━━━━━\u001b[0m\u001b[37m\u001b[0m \u001b[1m3s\u001b[0m 2ms/step - accuracy: 0.7911 - loss: 0.4554 - val_accuracy: 0.7869 - val_loss: 0.4613\n",
            "Epoch 23/50\n",
            "\u001b[1m1250/1250\u001b[0m \u001b[32m━━━━━━━━━━━━━━━━━━━━\u001b[0m\u001b[37m\u001b[0m \u001b[1m5s\u001b[0m 2ms/step - accuracy: 0.7906 - loss: 0.4562 - val_accuracy: 0.7821 - val_loss: 0.4683\n",
            "Epoch 24/50\n",
            "\u001b[1m1250/1250\u001b[0m \u001b[32m━━━━━━━━━━━━━━━━━━━━\u001b[0m\u001b[37m\u001b[0m \u001b[1m3s\u001b[0m 2ms/step - accuracy: 0.7932 - loss: 0.4484 - val_accuracy: 0.7825 - val_loss: 0.4625\n",
            "Epoch 25/50\n",
            "\u001b[1m1250/1250\u001b[0m \u001b[32m━━━━━━━━━━━━━━━━━━━━\u001b[0m\u001b[37m\u001b[0m \u001b[1m4s\u001b[0m 3ms/step - accuracy: 0.7932 - loss: 0.4531 - val_accuracy: 0.7889 - val_loss: 0.4576\n",
            "Epoch 26/50\n",
            "\u001b[1m1250/1250\u001b[0m \u001b[32m━━━━━━━━━━━━━━━━━━━━\u001b[0m\u001b[37m\u001b[0m \u001b[1m3s\u001b[0m 2ms/step - accuracy: 0.7932 - loss: 0.4507 - val_accuracy: 0.7895 - val_loss: 0.4558\n",
            "Epoch 27/50\n",
            "\u001b[1m1250/1250\u001b[0m \u001b[32m━━━━━━━━━━━━━━━━━━━━\u001b[0m\u001b[37m\u001b[0m \u001b[1m2s\u001b[0m 2ms/step - accuracy: 0.7941 - loss: 0.4526 - val_accuracy: 0.7850 - val_loss: 0.4578\n",
            "Epoch 28/50\n",
            "\u001b[1m1250/1250\u001b[0m \u001b[32m━━━━━━━━━━━━━━━━━━━━\u001b[0m\u001b[37m\u001b[0m \u001b[1m3s\u001b[0m 2ms/step - accuracy: 0.7911 - loss: 0.4564 - val_accuracy: 0.7867 - val_loss: 0.4569\n",
            "Epoch 29/50\n",
            "\u001b[1m1250/1250\u001b[0m \u001b[32m━━━━━━━━━━━━━━━━━━━━\u001b[0m\u001b[37m\u001b[0m \u001b[1m3s\u001b[0m 2ms/step - accuracy: 0.7909 - loss: 0.4535 - val_accuracy: 0.7882 - val_loss: 0.4549\n",
            "Epoch 30/50\n",
            "\u001b[1m1250/1250\u001b[0m \u001b[32m━━━━━━━━━━━━━━━━━━━━\u001b[0m\u001b[37m\u001b[0m \u001b[1m3s\u001b[0m 2ms/step - accuracy: 0.7973 - loss: 0.4462 - val_accuracy: 0.7766 - val_loss: 0.4705\n",
            "Epoch 31/50\n",
            "\u001b[1m1250/1250\u001b[0m \u001b[32m━━━━━━━━━━━━━━━━━━━━\u001b[0m\u001b[37m\u001b[0m \u001b[1m4s\u001b[0m 2ms/step - accuracy: 0.7922 - loss: 0.4495 - val_accuracy: 0.7840 - val_loss: 0.4592\n",
            "Epoch 32/50\n",
            "\u001b[1m1250/1250\u001b[0m \u001b[32m━━━━━━━━━━━━━━━━━━━━\u001b[0m\u001b[37m\u001b[0m \u001b[1m3s\u001b[0m 2ms/step - accuracy: 0.7961 - loss: 0.4473 - val_accuracy: 0.7864 - val_loss: 0.4562\n",
            "Epoch 33/50\n",
            "\u001b[1m1250/1250\u001b[0m \u001b[32m━━━━━━━━━━━━━━━━━━━━\u001b[0m\u001b[37m\u001b[0m \u001b[1m3s\u001b[0m 2ms/step - accuracy: 0.7932 - loss: 0.4519 - val_accuracy: 0.7907 - val_loss: 0.4541\n",
            "Epoch 34/50\n",
            "\u001b[1m1250/1250\u001b[0m \u001b[32m━━━━━━━━━━━━━━━━━━━━\u001b[0m\u001b[37m\u001b[0m \u001b[1m2s\u001b[0m 2ms/step - accuracy: 0.7920 - loss: 0.4511 - val_accuracy: 0.7872 - val_loss: 0.4547\n",
            "Epoch 35/50\n",
            "\u001b[1m1250/1250\u001b[0m \u001b[32m━━━━━━━━━━━━━━━━━━━━\u001b[0m\u001b[37m\u001b[0m \u001b[1m4s\u001b[0m 3ms/step - accuracy: 0.7950 - loss: 0.4509 - val_accuracy: 0.7870 - val_loss: 0.4581\n",
            "Epoch 36/50\n",
            "\u001b[1m1250/1250\u001b[0m \u001b[32m━━━━━━━━━━━━━━━━━━━━\u001b[0m\u001b[37m\u001b[0m \u001b[1m3s\u001b[0m 2ms/step - accuracy: 0.7937 - loss: 0.4480 - val_accuracy: 0.7897 - val_loss: 0.4544\n",
            "Epoch 37/50\n",
            "\u001b[1m1250/1250\u001b[0m \u001b[32m━━━━━━━━━━━━━━━━━━━━\u001b[0m\u001b[37m\u001b[0m \u001b[1m5s\u001b[0m 2ms/step - accuracy: 0.7953 - loss: 0.4512 - val_accuracy: 0.7843 - val_loss: 0.4584\n",
            "Epoch 38/50\n",
            "\u001b[1m1250/1250\u001b[0m \u001b[32m━━━━━━━━━━━━━━━━━━━━\u001b[0m\u001b[37m\u001b[0m \u001b[1m3s\u001b[0m 3ms/step - accuracy: 0.7979 - loss: 0.4428 - val_accuracy: 0.7879 - val_loss: 0.4546\n",
            "Epoch 39/50\n",
            "\u001b[1m1250/1250\u001b[0m \u001b[32m━━━━━━━━━━━━━━━━━━━━\u001b[0m\u001b[37m\u001b[0m \u001b[1m5s\u001b[0m 4ms/step - accuracy: 0.7934 - loss: 0.4508 - val_accuracy: 0.7799 - val_loss: 0.4671\n",
            "Epoch 40/50\n",
            "\u001b[1m1250/1250\u001b[0m \u001b[32m━━━━━━━━━━━━━━━━━━━━\u001b[0m\u001b[37m\u001b[0m \u001b[1m5s\u001b[0m 3ms/step - accuracy: 0.7930 - loss: 0.4494 - val_accuracy: 0.7904 - val_loss: 0.4537\n",
            "Epoch 41/50\n",
            "\u001b[1m1250/1250\u001b[0m \u001b[32m━━━━━━━━━━━━━━━━━━━━\u001b[0m\u001b[37m\u001b[0m \u001b[1m4s\u001b[0m 3ms/step - accuracy: 0.7954 - loss: 0.4460 - val_accuracy: 0.7867 - val_loss: 0.4581\n",
            "Epoch 42/50\n",
            "\u001b[1m1250/1250\u001b[0m \u001b[32m━━━━━━━━━━━━━━━━━━━━\u001b[0m\u001b[37m\u001b[0m \u001b[1m6s\u001b[0m 4ms/step - accuracy: 0.7949 - loss: 0.4479 - val_accuracy: 0.7868 - val_loss: 0.4557\n",
            "Epoch 43/50\n",
            "\u001b[1m1250/1250\u001b[0m \u001b[32m━━━━━━━━━━━━━━━━━━━━\u001b[0m\u001b[37m\u001b[0m \u001b[1m3s\u001b[0m 3ms/step - accuracy: 0.7891 - loss: 0.4561 - val_accuracy: 0.7899 - val_loss: 0.4522\n",
            "Epoch 44/50\n",
            "\u001b[1m1250/1250\u001b[0m \u001b[32m━━━━━━━━━━━━━━━━━━━━\u001b[0m\u001b[37m\u001b[0m \u001b[1m5s\u001b[0m 2ms/step - accuracy: 0.7944 - loss: 0.4465 - val_accuracy: 0.7891 - val_loss: 0.4529\n",
            "Epoch 45/50\n",
            "\u001b[1m1250/1250\u001b[0m \u001b[32m━━━━━━━━━━━━━━━━━━━━\u001b[0m\u001b[37m\u001b[0m \u001b[1m6s\u001b[0m 2ms/step - accuracy: 0.7899 - loss: 0.4486 - val_accuracy: 0.7900 - val_loss: 0.4523\n",
            "Epoch 46/50\n",
            "\u001b[1m1250/1250\u001b[0m \u001b[32m━━━━━━━━━━━━━━━━━━━━\u001b[0m\u001b[37m\u001b[0m \u001b[1m5s\u001b[0m 3ms/step - accuracy: 0.7967 - loss: 0.4467 - val_accuracy: 0.7900 - val_loss: 0.4518\n",
            "Epoch 47/50\n",
            "\u001b[1m1250/1250\u001b[0m \u001b[32m━━━━━━━━━━━━━━━━━━━━\u001b[0m\u001b[37m\u001b[0m \u001b[1m2s\u001b[0m 2ms/step - accuracy: 0.7912 - loss: 0.4541 - val_accuracy: 0.7849 - val_loss: 0.4601\n",
            "Epoch 48/50\n",
            "\u001b[1m1250/1250\u001b[0m \u001b[32m━━━━━━━━━━━━━━━━━━━━\u001b[0m\u001b[37m\u001b[0m \u001b[1m2s\u001b[0m 2ms/step - accuracy: 0.7992 - loss: 0.4447 - val_accuracy: 0.7755 - val_loss: 0.4730\n",
            "Epoch 49/50\n",
            "\u001b[1m1250/1250\u001b[0m \u001b[32m━━━━━━━━━━━━━━━━━━━━\u001b[0m\u001b[37m\u001b[0m \u001b[1m3s\u001b[0m 2ms/step - accuracy: 0.7915 - loss: 0.4489 - val_accuracy: 0.7916 - val_loss: 0.4522\n",
            "Epoch 50/50\n",
            "\u001b[1m1250/1250\u001b[0m \u001b[32m━━━━━━━━━━━━━━━━━━━━\u001b[0m\u001b[37m\u001b[0m \u001b[1m5s\u001b[0m 4ms/step - accuracy: 0.7926 - loss: 0.4495 - val_accuracy: 0.7906 - val_loss: 0.4519\n",
            "\u001b[1m313/313\u001b[0m \u001b[32m━━━━━━━━━━━━━━━━━━━━\u001b[0m\u001b[37m\u001b[0m \u001b[1m0s\u001b[0m 1ms/step - accuracy: 0.7916 - loss: 0.4494\n",
            "Test Accuracy: 0.7906\n"
          ]
        },
        {
          "output_type": "display_data",
          "data": {
            "text/plain": [
              "<Figure size 640x480 with 1 Axes>"
            ],
            "image/png": "[encoded data removed]"
          },
          "metadata": {}
        }
      ]
    },
    {
      "cell_type": "code",
      "source": [
        "import matplotlib.pyplot as plt\n",
        "\n",
        "# Example data: Replace with your actual model names and accuracy values\n",
        "accuracy1 = report_1['accuracy']\n",
        "accuracy2 = report_2['accuracy']\n",
        "accuracy3 = report_3['accuracy']\n",
        "accuracy4 = report_4['accuracy']\n",
        "\n",
        "model_names = ['BOW LR', 'BOW NB', 'TF-IDF LR', 'TF-IDF NB', 'RNN']\n",
        "accuracies = [accuracy1,accuracy2,accuracy3, accuracy4, 0.7906]  # Replace with your accuracy values\n",
        "\n",
        "# Plot the bar chart\n",
        "plt.figure(figsize=(10, 6))\n",
        "plt.bar(model_names, accuracies, color=['blue', 'orange', 'green', 'red', 'purple'])\n",
        "\n",
        "# Add titles and labels\n",
        "plt.title('Model Accuracy Comparison', fontsize=16)\n",
        "plt.xlabel('Models', fontsize=12)\n",
        "plt.ylabel('Accuracy', fontsize=12)\n",
        "plt.ylim(0, 1)  # Set the y-axis to range from 0 to 1 for accuracy\n",
        "\n",
        "# Annotate bars with accuracy values\n",
        "for i, acc in enumerate(accuracies):\n",
        "    plt.text(i, acc + 0.01, f'{acc:.2f}', ha='center', fontsize=10)\n",
        "\n",
        "# Show the plot\n",
        "plt.show()\n",
        "\n",
        "\n",
        "# print(f\"Accuracy: {accuracy:.2f}\")"
      ],
      "metadata": {
        "colab": {
          "base_uri": "https://localhost:8080/",
          "height": 588
        },
        "id": "Dvh0VHZnRAxI",
        "outputId": "7c58d0b7-6b68-4b3d-afa1-b3f7ee9f60ee"
      },
      "execution_count": null,
      "outputs": [
        {
          "output_type": "display_data",
          "data": {
            "text/plain": [
              "<Figure size 1000x600 with 1 Axes>"
            ],
            "image/png": "[encoded data removed]"
          },
          "metadata": {}
        },
        {
          "output_type": "stream",
          "name": "stdout",
          "text": [
            "Accuracy: 0.79\n"
          ]
        }
      ]
    },
    {
      "cell_type": "markdown",
      "source": [
        "We can see from our experiment than RNN does not do a better job than Logistic Regressiona and Naive Bayes. In fact, RNN performs worst among all the other models. Maybe we need to increase the hidden layers of the RNN model so that it learns better. We have to make the RNN more complex."
      ],
      "metadata": {
        "id": "S_nNmkipaXEf"
      }
    }
  ]
}
